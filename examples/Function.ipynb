{
 "cells": [
  {
   "cell_type": "code",
   "execution_count": 2,
   "id": "62232b91-9237-410f-a062-8a132f65d3be",
   "metadata": {},
   "outputs": [
    {
     "name": "stdout",
     "output_type": "stream",
     "text": []
    }
   ],
   "source": [
    "REM An example with a function call"
   ]
  },
  {
   "cell_type": "code",
   "execution_count": 9,
   "id": "30b48f9a-d1a1-45e4-a44e-f6c2fc55b065",
   "metadata": {},
   "outputs": [
    {
     "name": "stdout",
     "output_type": "stream",
     "text": [
      "The sum is: 15\n"
     ]
    }
   ],
   "source": [
    "REM Define a function that adds two numbers\n",
    "SUB AddNumbers(A, B)\n",
    "    RETURN A + B\n",
    "END SUB\n",
    "\n",
    "REM Call the function and print the result\n",
    "SUM = AddNumbers(5, 10)\n",
    "PRINT \"The sum is: \" + STR$(SUM)"
   ]
  },
  {
   "cell_type": "code",
   "execution_count": null,
   "id": "2e93a578-73ac-456f-8e44-02cb5c529bc1",
   "metadata": {},
   "outputs": [],
   "source": []
  }
 ],
 "metadata": {
  "kernelspec": {
   "display_name": "Yabasic",
   "language": "basic",
   "name": "yabasic"
  },
  "language_info": {
   "file_extension": ".bas",
   "mimetype": "text/plain",
   "name": "basic"
  }
 },
 "nbformat": 4,
 "nbformat_minor": 5
}
