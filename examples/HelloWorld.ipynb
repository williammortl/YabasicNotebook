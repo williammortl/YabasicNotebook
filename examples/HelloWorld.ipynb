{
 "cells": [
  {
   "cell_type": "code",
   "execution_count": 3,
   "id": "278186a4-6d58-4864-b17d-f282bb103a1f",
   "metadata": {},
   "outputs": [
    {
     "name": "stdout",
     "output_type": "stream",
     "text": []
    }
   ],
   "source": [
    "REM This is a Hello World example! :-)"
   ]
  },
  {
   "cell_type": "code",
   "execution_count": 4,
   "id": "43660c56-dc77-4810-97c0-b218993e21e2",
   "metadata": {},
   "outputs": [
    {
     "name": "stdout",
     "output_type": "stream",
     "text": [
      "Hello World!\n",
      "Hello World!\n",
      "Hello World!\n",
      "Hello World!\n",
      "Hello World!\n",
      "Hello World!\n",
      "Hello World!\n",
      "Hello World!\n",
      "Hello World!\n",
      "Hello World!\n"
     ]
    }
   ],
   "source": [
    "A$ = \"Hello World!\"\n",
    "FOR I = 1 TO 10\n",
    "    PRINT A$\n",
    "NEXT I"
   ]
  },
  {
   "cell_type": "code",
   "execution_count": null,
   "id": "9a164ee4-e31d-4213-8c5d-1fdb4f821816",
   "metadata": {},
   "outputs": [],
   "source": []
  }
 ],
 "metadata": {
  "kernelspec": {
   "display_name": "Yabasic",
   "language": "basic",
   "name": "yabasic"
  },
  "language_info": {
   "file_extension": ".bas",
   "mimetype": "text/plain",
   "name": "basic"
  }
 },
 "nbformat": 4,
 "nbformat_minor": 5
}
